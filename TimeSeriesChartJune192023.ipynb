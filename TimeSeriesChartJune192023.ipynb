{
 "cells": [
  {
   "cell_type": "code",
   "execution_count": 1,
   "id": "6ab5c356",
   "metadata": {},
   "outputs": [],
   "source": [
    "import ee\n",
    "import geemap\n",
    "import pandas as pd\n",
    "\n",
    "#ee.Authenticate()  # Only needed for the first time\n",
    "ee.Initialize()\n",
    "Map= geemap.Map()"
   ]
  },
  {
   "cell_type": "code",
   "execution_count": 2,
   "id": "c34aa26b",
   "metadata": {},
   "outputs": [],
   "source": [
    "lake = ee.FeatureCollection('projects/ee-mazard/assets/adk-samplelakes') \\\n",
    "    .filter(ee.Filter.eq('GNIS_Name', 'Big Moose Lake'))"
   ]
  },
  {
   "cell_type": "code",
   "execution_count": 3,
   "id": "da839cfb",
   "metadata": {},
   "outputs": [
    {
     "data": {
      "application/vnd.jupyter.widget-view+json": {
       "model_id": "12642b565bec4a3ebc2615ee15b85be3",
       "version_major": 2,
       "version_minor": 0
      },
      "text/plain": [
       "Map(center=[43.81880036802749, -74.85423940003443], controls=(WidgetControl(options=['position', 'transparent_…"
      ]
     },
     "execution_count": 3,
     "metadata": {},
     "output_type": "execute_result"
    }
   ],
   "source": [
    "#station = ee.Geometry.Point(-74.86113631486039,43.82283062049295)\n",
    "station = ee.Geometry.Point(-74.85423940003443,43.81880036802749)\n",
    "Map.addLayer(station)\n",
    "Map.centerObject(station, 16)\n",
    "Map"
   ]
  },
  {
   "cell_type": "code",
   "execution_count": 4,
   "id": "90e3c228",
   "metadata": {},
   "outputs": [],
   "source": [
    "def cdom(img):\n",
    "    co = img.expression(\"(20.3 - 10. * (b2 / b3) - 2.4 * (b3 / b4))\", {\n",
    "        'b2': img.select('SR_B2'),\n",
    "        'b3': img.select('SR_B3'),\n",
    "        'b4': img.select('SR_B4')\n",
    "    }).rename(\"CO\")\n",
    "    return img.addBands([co])\n"
   ]
  },
  {
   "cell_type": "code",
   "execution_count": 5,
   "id": "3c199c5e",
   "metadata": {},
   "outputs": [],
   "source": [
    "def maskL457sr(image):\n",
    "    qaMask = image.select('QA_PIXEL').bitwiseAnd(int('11111', 2)).eq(0)\n",
    "    saturationMask = image.select('QA_RADSAT').eq(0)\n",
    "    qa = image.select('QA_PIXEL')\n",
    "    cloud = qa.bitwiseAnd(1 << 5).Or(qa.bitwiseAnd(1 << 7)).Or(qa.bitwiseAnd(1 << 3))\n",
    "    masked = image.updateMask(cloud.Not())\n",
    "    opticalBands = image.select('SR_B.').multiply(0.0000275).add(-0.2)\n",
    "    thermalBand = image.select('ST_B6').multiply(0.00341802).add(-124.15)\n",
    "    return image.addBands(opticalBands, None, True).addBands(thermalBand, None, True).updateMask(masked).updateMask(qaMask).updateMask(saturationMask)\n",
    "\n",
    "\n",
    "l5 = ee.ImageCollection('LANDSAT/LT05/C02/T1_L2') \\\n",
    "   .filter(ee.Filter.calendarRange(5, 11, 'month')) \\\n",
    "   .filterBounds(station) \\\n",
    "   .filter(ee.Filter.lt('CLOUD_COVER', 25)) \\\n",
    "   .map(cdom)\n",
    "\n",
    "l5 = l5.map(maskL457sr)\n"
   ]
  },
  {
   "cell_type": "code",
   "execution_count": 6,
   "id": "a407ea4a",
   "metadata": {},
   "outputs": [],
   "source": [
    "def maskL8sr(image):\n",
    "    # Bit 0 - Fill\n",
    "    # Bit 1 - Dilated Cloud\n",
    "    # Bit 2 - Cirrus\n",
    "    # Bit 3 - Cloud\n",
    "    # Bit 4 - Cloud Shadow\n",
    "    qaMask = image.select('QA_PIXEL').bitwiseAnd(int('11111', 2)).eq(0)\n",
    "    saturationMask = image.select('QA_RADSAT').eq(0)\n",
    "\n",
    "    # Apply the scaling factors to the appropriate bands.\n",
    "    opticalBands = image.select('SR_B.').multiply(0.0000275).add(-0.2)\n",
    "    thermalBands = image.select('ST_B.*').multiply(0.00341802).add(-124.15)\n",
    "\n",
    "    # Replace the original bands with the scaled ones and apply the masks.\n",
    "    return image.addBands(opticalBands, None, True) \\\n",
    "        .addBands(thermalBands, None, True) \\\n",
    "        .updateMask(qaMask) \\\n",
    "        .updateMask(saturationMask)\n",
    "\n",
    "l8 =ee.ImageCollection('LANDSAT/LC08/C02/T1_L2') \\\n",
    "    .filter(ee.Filter.calendarRange(5, 11, 'month')) \\\n",
    "    .filterBounds(station) \\\n",
    "    .filter(ee.Filter.lt('CLOUD_COVER', 25)) \\\n",
    "    .map(cdom)\n",
    "\n",
    "\n",
    "l8 = l8.map(maskL8sr)\n",
    "\n",
    "\n",
    "#merge landsat 5 and landsat 8\n",
    "lall = ee.ImageCollection(l5.merge(l8));"
   ]
  },
  {
   "cell_type": "code",
   "execution_count": 15,
   "id": "e0a3a036",
   "metadata": {},
   "outputs": [],
   "source": [
    "def station_mean(img):\n",
    "    mean = img.reduceRegion(reducer=ee.Reducer.mean(), geometry=station, scale=30).get('CO')\n",
    "    return img.set('date', img.date().format()).set('mean',mean)"
   ]
  },
  {
   "cell_type": "code",
   "execution_count": 16,
   "id": "da6c5b2f",
   "metadata": {},
   "outputs": [],
   "source": [
    "station_reduced_imgs = lall.map(station_mean)\n"
   ]
  },
  {
   "cell_type": "code",
   "execution_count": 17,
   "id": "3e75ec04",
   "metadata": {},
   "outputs": [],
   "source": [
    "nested_list = station_reduced_imgs.reduceColumns(ee.Reducer.toList(2), ['date','mean']).values().get(0)"
   ]
  },
  {
   "cell_type": "code",
   "execution_count": 20,
   "id": "f64a3ffa",
   "metadata": {},
   "outputs": [
    {
     "data": {
      "text/html": [
       "<div>\n",
       "<style scoped>\n",
       "    .dataframe tbody tr th:only-of-type {\n",
       "        vertical-align: middle;\n",
       "    }\n",
       "\n",
       "    .dataframe tbody tr th {\n",
       "        vertical-align: top;\n",
       "    }\n",
       "\n",
       "    .dataframe thead th {\n",
       "        text-align: right;\n",
       "    }\n",
       "</style>\n",
       "<table border=\"1\" class=\"dataframe\">\n",
       "  <thead>\n",
       "    <tr style=\"text-align: right;\">\n",
       "      <th></th>\n",
       "      <th>date</th>\n",
       "      <th>mean</th>\n",
       "    </tr>\n",
       "  </thead>\n",
       "  <tbody>\n",
       "    <tr>\n",
       "      <th>0</th>\n",
       "      <td>1984-07-03T15:07:36</td>\n",
       "      <td>7.785894</td>\n",
       "    </tr>\n",
       "    <tr>\n",
       "      <th>1</th>\n",
       "      <td>1988-06-12T15:09:37</td>\n",
       "      <td>7.738799</td>\n",
       "    </tr>\n",
       "    <tr>\n",
       "      <th>2</th>\n",
       "      <td>1988-07-30T15:09:49</td>\n",
       "      <td>7.462581</td>\n",
       "    </tr>\n",
       "    <tr>\n",
       "      <th>3</th>\n",
       "      <td>1989-08-18T15:05:40</td>\n",
       "      <td>8.219737</td>\n",
       "    </tr>\n",
       "    <tr>\n",
       "      <th>4</th>\n",
       "      <td>1992-05-22T15:02:40</td>\n",
       "      <td>7.919725</td>\n",
       "    </tr>\n",
       "    <tr>\n",
       "      <th>...</th>\n",
       "      <td>...</td>\n",
       "      <td>...</td>\n",
       "    </tr>\n",
       "    <tr>\n",
       "      <th>183</th>\n",
       "      <td>2022-08-20T15:45:47</td>\n",
       "      <td>8.026488</td>\n",
       "    </tr>\n",
       "    <tr>\n",
       "      <th>184</th>\n",
       "      <td>2022-09-21T15:45:54</td>\n",
       "      <td>8.094939</td>\n",
       "    </tr>\n",
       "    <tr>\n",
       "      <th>185</th>\n",
       "      <td>2022-11-08T15:45:52</td>\n",
       "      <td>8.017181</td>\n",
       "    </tr>\n",
       "    <tr>\n",
       "      <th>186</th>\n",
       "      <td>2022-11-24T15:45:48</td>\n",
       "      <td>9.413884</td>\n",
       "    </tr>\n",
       "    <tr>\n",
       "      <th>187</th>\n",
       "      <td>2023-06-04T15:44:36</td>\n",
       "      <td>8.129784</td>\n",
       "    </tr>\n",
       "  </tbody>\n",
       "</table>\n",
       "<p>188 rows × 2 columns</p>\n",
       "</div>"
      ],
      "text/plain": [
       "                    date      mean\n",
       "0    1984-07-03T15:07:36  7.785894\n",
       "1    1988-06-12T15:09:37  7.738799\n",
       "2    1988-07-30T15:09:49  7.462581\n",
       "3    1989-08-18T15:05:40  8.219737\n",
       "4    1992-05-22T15:02:40  7.919725\n",
       "..                   ...       ...\n",
       "183  2022-08-20T15:45:47  8.026488\n",
       "184  2022-09-21T15:45:54  8.094939\n",
       "185  2022-11-08T15:45:52  8.017181\n",
       "186  2022-11-24T15:45:48  9.413884\n",
       "187  2023-06-04T15:44:36  8.129784\n",
       "\n",
       "[188 rows x 2 columns]"
      ]
     },
     "execution_count": 20,
     "metadata": {},
     "output_type": "execute_result"
    }
   ],
   "source": [
    "# dont forget we need to call the callback method \"getInfo\" to retrieve the data\n",
    "df = pd.DataFrame(nested_list.getInfo(), columns=['date','mean'])\n",
    "\n",
    "df"
   ]
  },
  {
   "cell_type": "code",
   "execution_count": 21,
   "id": "3a55cebe",
   "metadata": {},
   "outputs": [
    {
     "data": {
      "text/html": [
       "<div>\n",
       "<style scoped>\n",
       "    .dataframe tbody tr th:only-of-type {\n",
       "        vertical-align: middle;\n",
       "    }\n",
       "\n",
       "    .dataframe tbody tr th {\n",
       "        vertical-align: top;\n",
       "    }\n",
       "\n",
       "    .dataframe thead th {\n",
       "        text-align: right;\n",
       "    }\n",
       "</style>\n",
       "<table border=\"1\" class=\"dataframe\">\n",
       "  <thead>\n",
       "    <tr style=\"text-align: right;\">\n",
       "      <th></th>\n",
       "      <th>date</th>\n",
       "      <th>mean</th>\n",
       "    </tr>\n",
       "  </thead>\n",
       "  <tbody>\n",
       "    <tr>\n",
       "      <th>0</th>\n",
       "      <td>1984-07-03</td>\n",
       "      <td>7.785894</td>\n",
       "    </tr>\n",
       "    <tr>\n",
       "      <th>1</th>\n",
       "      <td>1988-06-12</td>\n",
       "      <td>7.738799</td>\n",
       "    </tr>\n",
       "    <tr>\n",
       "      <th>2</th>\n",
       "      <td>1988-07-30</td>\n",
       "      <td>7.462581</td>\n",
       "    </tr>\n",
       "    <tr>\n",
       "      <th>3</th>\n",
       "      <td>1989-08-18</td>\n",
       "      <td>8.219737</td>\n",
       "    </tr>\n",
       "    <tr>\n",
       "      <th>4</th>\n",
       "      <td>1992-05-22</td>\n",
       "      <td>7.919725</td>\n",
       "    </tr>\n",
       "    <tr>\n",
       "      <th>...</th>\n",
       "      <td>...</td>\n",
       "      <td>...</td>\n",
       "    </tr>\n",
       "    <tr>\n",
       "      <th>183</th>\n",
       "      <td>2022-08-20</td>\n",
       "      <td>8.026488</td>\n",
       "    </tr>\n",
       "    <tr>\n",
       "      <th>184</th>\n",
       "      <td>2022-09-21</td>\n",
       "      <td>8.094939</td>\n",
       "    </tr>\n",
       "    <tr>\n",
       "      <th>185</th>\n",
       "      <td>2022-11-08</td>\n",
       "      <td>8.017181</td>\n",
       "    </tr>\n",
       "    <tr>\n",
       "      <th>186</th>\n",
       "      <td>2022-11-24</td>\n",
       "      <td>9.413884</td>\n",
       "    </tr>\n",
       "    <tr>\n",
       "      <th>187</th>\n",
       "      <td>2023-06-04</td>\n",
       "      <td>8.129784</td>\n",
       "    </tr>\n",
       "  </tbody>\n",
       "</table>\n",
       "<p>188 rows × 2 columns</p>\n",
       "</div>"
      ],
      "text/plain": [
       "           date      mean\n",
       "0    1984-07-03  7.785894\n",
       "1    1988-06-12  7.738799\n",
       "2    1988-07-30  7.462581\n",
       "3    1989-08-18  8.219737\n",
       "4    1992-05-22  7.919725\n",
       "..          ...       ...\n",
       "183  2022-08-20  8.026488\n",
       "184  2022-09-21  8.094939\n",
       "185  2022-11-08  8.017181\n",
       "186  2022-11-24  9.413884\n",
       "187  2023-06-04  8.129784\n",
       "\n",
       "[188 rows x 2 columns]"
      ]
     },
     "execution_count": 21,
     "metadata": {},
     "output_type": "execute_result"
    }
   ],
   "source": [
    "\n",
    "df['date'] = pd.to_datetime(df['date'])\n",
    "\n",
    "# Format 'date' column to exclude the time\n",
    "df['date'] = df['date'].dt.date\n",
    "df"
   ]
  },
  {
   "cell_type": "code",
   "execution_count": 31,
   "id": "634acc91",
   "metadata": {},
   "outputs": [
    {
     "data": {
      "image/png": "[encoded data removed]",
      "text/plain": [
       "<Figure size 1500x700 with 1 Axes>"
      ]
     },
     "metadata": {},
     "output_type": "display_data"
    }
   ],
   "source": [
    "import seaborn as sns\n",
    "import matplotlib.pyplot as plt\n",
    "import datetime as dt\n",
    "# Create a figure with subplots and set the dimensions to 15 x 7\n",
    "fig, ax = plt.subplots(figsize=(15, 7))\n",
    "\n",
    "# Create the plot by setting our dataframe to the data argument\n",
    "sns.scatterplot(data=df, x='date', y='mean', ax=ax)\n",
    "\n",
    "# Set the labels and title\n",
    "ax.set_ylabel('mean cdom', fontsize=20)\n",
    "ax.set_xlabel('date', fontsize=20)\n",
    "ax.set_title('Cdom Values over Time', fontsize=20)\n",
    "\n",
    "# Format the x-axis tick labels to display only the year\n",
    "# ax.xaxis.set_major_formatter(plt.FixedFormatter(df['date'].dt.year.unique()))\n",
    "\n",
    "# Display the plot\n",
    "plt.show()\n"
   ]
  },
  {
   "cell_type": "code",
   "execution_count": null,
   "id": "eecd5a58",
   "metadata": {},
   "outputs": [],
   "source": []
  }
 ],
 "metadata": {
  "kernelspec": {
   "display_name": "Python 3 (ipykernel)",
   "language": "python",
   "name": "python3"
  },
  "language_info": {
   "codemirror_mode": {
    "name": "ipython",
    "version": 3
   },
   "file_extension": ".py",
   "mimetype": "text/x-python",
   "name": "python",
   "nbconvert_exporter": "python",
   "pygments_lexer": "ipython3",
   "version": "3.10.7"
  }
 },
 "nbformat": 4,
 "nbformat_minor": 5
}
