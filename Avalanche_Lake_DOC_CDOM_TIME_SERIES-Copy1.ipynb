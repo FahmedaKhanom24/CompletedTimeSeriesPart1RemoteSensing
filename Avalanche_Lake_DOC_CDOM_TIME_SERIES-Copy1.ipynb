{
 "cells": [
  {
   "cell_type": "code",
   "execution_count": 1,
   "id": "6ab5c356",
   "metadata": {},
   "outputs": [],
   "source": [
    "import ee\n",
    "import geemap\n",
    "import pandas as pd\n",
    "from matplotlib import pyplot\n",
    "\n",
    "\n",
    "#ee.Authenticate()  # Only needed for the first time\n",
    "ee.Initialize()\n",
    "Map= geemap.Map()"
   ]
  },
  {
   "cell_type": "code",
   "execution_count": 2,
   "id": "c34aa26b",
   "metadata": {},
   "outputs": [],
   "source": [
    "lake = ee.FeatureCollection('projects/ee-mazard/assets/adk-samplelakes') \\\n",
    "    .filter(ee.Filter.eq('GNIS_Name', 'Avalanche Lake'))\n",
    "\n",
    "#data = pd.read_csv(\"C:\\\\Users\\\\Touhe\\\\TimeSeriesGenerationData_excel.csv\", index_col=0, parse_dates=True)\n"
   ]
  },
  {
   "cell_type": "code",
   "execution_count": 4,
   "id": "da839cfb",
   "metadata": {},
   "outputs": [
    {
     "data": {
      "application/vnd.jupyter.widget-view+json": {
       "model_id": "12601523cc204563b40ff15339729bbe",
       "version_major": 2,
       "version_minor": 0
      },
      "text/plain": [
       "Map(center=[44.13073943656968, -73.96958229920722], controls=(WidgetControl(options=['position', 'transparent_…"
      ]
     },
     "execution_count": 4,
     "metadata": {},
     "output_type": "execute_result"
    }
   ],
   "source": [
    "station = ee.Geometry.Point(-73.96958229920722,44.13073943656968)\n",
    "Map.addLayer(station)\n",
    "Map.centerObject(station, 16)\n",
    "Map"
   ]
  },
  {
   "cell_type": "code",
   "execution_count": 5,
   "id": "90e3c228",
   "metadata": {},
   "outputs": [],
   "source": [
    "def cdom(img):\n",
    "    co = img.expression(\"(20.3 - 10. * (b2 / b3) - 2.4 * (b3 / b4))\", {\n",
    "        'b2': img.select('SR_B2'),\n",
    "        'b3': img.select('SR_B3'),\n",
    "        'b4': img.select('SR_B4')\n",
    "    }).rename(\"CO\")\n",
    "    return img.addBands([co])\n"
   ]
  },
  {
   "cell_type": "code",
   "execution_count": 6,
   "id": "3c199c5e",
   "metadata": {},
   "outputs": [],
   "source": [
    "def maskL457sr(image):\n",
    "    qaMask = image.select('QA_PIXEL').bitwiseAnd(int('11111', 2)).eq(0)\n",
    "    saturationMask = image.select('QA_RADSAT').eq(0)\n",
    "    qa = image.select('QA_PIXEL')\n",
    "    cloud = qa.bitwiseAnd(1 << 5).Or(qa.bitwiseAnd(1 << 7)).Or(qa.bitwiseAnd(1 << 3))\n",
    "    masked = image.updateMask(cloud.Not())\n",
    "    opticalBands = image.select('SR_B.').multiply(0.0000275).add(-0.2)\n",
    "    thermalBand = image.select('ST_B6').multiply(0.00341802).add(-124.15)\n",
    "    return image.addBands(opticalBands, None, True).addBands(thermalBand, None, True).updateMask(masked).updateMask(qaMask).updateMask(saturationMask)\n",
    "\n",
    "\n",
    "l5 = ee.ImageCollection('LANDSAT/LT05/C02/T1_L2') \\\n",
    "   .filter(ee.Filter.calendarRange(5, 11, 'month')) \\\n",
    "   .filterBounds(station) \\\n",
    "   .filter(ee.Filter.lt('CLOUD_COVER', 25)) \\\n",
    "   .map(cdom)\n",
    "\n",
    "l5 = l5.map(maskL457sr)\n"
   ]
  },
  {
   "cell_type": "code",
   "execution_count": 7,
   "id": "a407ea4a",
   "metadata": {},
   "outputs": [],
   "source": [
    "def maskL8sr(image):\n",
    "    # Bit 0 - Fill\n",
    "    # Bit 1 - Dilated Cloud\n",
    "    # Bit 2 - Cirrus\n",
    "    # Bit 3 - Cloud\n",
    "    # Bit 4 - Cloud Shadow\n",
    "    qaMask = image.select('QA_PIXEL').bitwiseAnd(int('11111', 2)).eq(0)\n",
    "    saturationMask = image.select('QA_RADSAT').eq(0)\n",
    "\n",
    "    # Apply the scaling factors to the appropriate bands.\n",
    "    opticalBands = image.select('SR_B.').multiply(0.0000275).add(-0.2)\n",
    "    thermalBands = image.select('ST_B.*').multiply(0.00341802).add(-124.15)\n",
    "\n",
    "    # Replace the original bands with the scaled ones and apply the masks.\n",
    "    return image.addBands(opticalBands, None, True) \\\n",
    "        .addBands(thermalBands, None, True) \\\n",
    "        .updateMask(qaMask) \\\n",
    "        .updateMask(saturationMask)\n",
    "\n",
    "l8 =ee.ImageCollection('LANDSAT/LC08/C02/T1_L2') \\\n",
    "    .filter(ee.Filter.calendarRange(5, 11, 'month')) \\\n",
    "    .filterBounds(station) \\\n",
    "    .filter(ee.Filter.lt('CLOUD_COVER', 25)) \\\n",
    "    .map(cdom)\n",
    "\n",
    "\n",
    "l8 = l8.map(maskL8sr)\n",
    "\n",
    "\n",
    "#merge landsat 5 and landsat 8\n",
    "lall = ee.ImageCollection(l5.merge(l8));"
   ]
  },
  {
   "cell_type": "code",
   "execution_count": 8,
   "id": "e0a3a036",
   "metadata": {},
   "outputs": [],
   "source": [
    "def station_mean(img):\n",
    "    mean = img.reduceRegion(reducer=ee.Reducer.mean(), geometry=station, scale=30).get('CO')\n",
    "    return img.set('date', img.date().format()).set('mean',mean)"
   ]
  },
  {
   "cell_type": "code",
   "execution_count": 9,
   "id": "da6c5b2f",
   "metadata": {},
   "outputs": [],
   "source": [
    "station_reduced_imgs = lall.map(station_mean)\n"
   ]
  },
  {
   "cell_type": "code",
   "execution_count": 10,
   "id": "3e75ec04",
   "metadata": {},
   "outputs": [],
   "source": [
    "nested_list = station_reduced_imgs.reduceColumns(ee.Reducer.toList(2), ['date','mean']).values().get(0)"
   ]
  },
  {
   "cell_type": "code",
   "execution_count": 11,
   "id": "f64a3ffa",
   "metadata": {},
   "outputs": [
    {
     "data": {
      "text/html": [
       "<div>\n",
       "<style scoped>\n",
       "    .dataframe tbody tr th:only-of-type {\n",
       "        vertical-align: middle;\n",
       "    }\n",
       "\n",
       "    .dataframe tbody tr th {\n",
       "        vertical-align: top;\n",
       "    }\n",
       "\n",
       "    .dataframe thead th {\n",
       "        text-align: right;\n",
       "    }\n",
       "</style>\n",
       "<table border=\"1\" class=\"dataframe\">\n",
       "  <thead>\n",
       "    <tr style=\"text-align: right;\">\n",
       "      <th></th>\n",
       "      <th>date</th>\n",
       "      <th>mean</th>\n",
       "    </tr>\n",
       "  </thead>\n",
       "  <tbody>\n",
       "    <tr>\n",
       "      <th>0</th>\n",
       "      <td>1984-06-17T15:07:00</td>\n",
       "      <td>8.644180</td>\n",
       "    </tr>\n",
       "    <tr>\n",
       "      <th>1</th>\n",
       "      <td>1984-09-21T15:08:47</td>\n",
       "      <td>8.211801</td>\n",
       "    </tr>\n",
       "    <tr>\n",
       "      <th>2</th>\n",
       "      <td>1984-10-07T15:08:46</td>\n",
       "      <td>8.189312</td>\n",
       "    </tr>\n",
       "    <tr>\n",
       "      <th>3</th>\n",
       "      <td>1984-11-08T15:08:35</td>\n",
       "      <td>8.136106</td>\n",
       "    </tr>\n",
       "    <tr>\n",
       "      <th>4</th>\n",
       "      <td>1985-07-22T15:08:33</td>\n",
       "      <td>8.386366</td>\n",
       "    </tr>\n",
       "    <tr>\n",
       "      <th>...</th>\n",
       "      <td>...</td>\n",
       "      <td>...</td>\n",
       "    </tr>\n",
       "    <tr>\n",
       "      <th>141</th>\n",
       "      <td>2020-10-17T15:45:11</td>\n",
       "      <td>8.293824</td>\n",
       "    </tr>\n",
       "    <tr>\n",
       "      <th>142</th>\n",
       "      <td>2021-05-13T15:44:25</td>\n",
       "      <td>8.444483</td>\n",
       "    </tr>\n",
       "    <tr>\n",
       "      <th>143</th>\n",
       "      <td>2021-10-20T15:45:17</td>\n",
       "      <td>8.398671</td>\n",
       "    </tr>\n",
       "    <tr>\n",
       "      <th>144</th>\n",
       "      <td>2022-11-24T15:45:24</td>\n",
       "      <td>8.287634</td>\n",
       "    </tr>\n",
       "    <tr>\n",
       "      <th>145</th>\n",
       "      <td>2023-05-19T15:44:07</td>\n",
       "      <td>8.636032</td>\n",
       "    </tr>\n",
       "  </tbody>\n",
       "</table>\n",
       "<p>146 rows × 2 columns</p>\n",
       "</div>"
      ],
      "text/plain": [
       "                    date      mean\n",
       "0    1984-06-17T15:07:00  8.644180\n",
       "1    1984-09-21T15:08:47  8.211801\n",
       "2    1984-10-07T15:08:46  8.189312\n",
       "3    1984-11-08T15:08:35  8.136106\n",
       "4    1985-07-22T15:08:33  8.386366\n",
       "..                   ...       ...\n",
       "141  2020-10-17T15:45:11  8.293824\n",
       "142  2021-05-13T15:44:25  8.444483\n",
       "143  2021-10-20T15:45:17  8.398671\n",
       "144  2022-11-24T15:45:24  8.287634\n",
       "145  2023-05-19T15:44:07  8.636032\n",
       "\n",
       "[146 rows x 2 columns]"
      ]
     },
     "execution_count": 11,
     "metadata": {},
     "output_type": "execute_result"
    }
   ],
   "source": [
    "# dont forget we need to call the callback method \"getInfo\" to retrieve the data\n",
    "df = pd.DataFrame(nested_list.getInfo(), columns=['date','mean'])\n",
    "\n",
    "df"
   ]
  },
  {
   "cell_type": "code",
   "execution_count": 12,
   "id": "3a55cebe",
   "metadata": {},
   "outputs": [
    {
     "data": {
      "text/html": [
       "<div>\n",
       "<style scoped>\n",
       "    .dataframe tbody tr th:only-of-type {\n",
       "        vertical-align: middle;\n",
       "    }\n",
       "\n",
       "    .dataframe tbody tr th {\n",
       "        vertical-align: top;\n",
       "    }\n",
       "\n",
       "    .dataframe thead th {\n",
       "        text-align: right;\n",
       "    }\n",
       "</style>\n",
       "<table border=\"1\" class=\"dataframe\">\n",
       "  <thead>\n",
       "    <tr style=\"text-align: right;\">\n",
       "      <th></th>\n",
       "      <th>date</th>\n",
       "      <th>mean</th>\n",
       "    </tr>\n",
       "  </thead>\n",
       "  <tbody>\n",
       "    <tr>\n",
       "      <th>0</th>\n",
       "      <td>1984-06-17</td>\n",
       "      <td>8.644180</td>\n",
       "    </tr>\n",
       "    <tr>\n",
       "      <th>1</th>\n",
       "      <td>1984-09-21</td>\n",
       "      <td>8.211801</td>\n",
       "    </tr>\n",
       "    <tr>\n",
       "      <th>2</th>\n",
       "      <td>1984-10-07</td>\n",
       "      <td>8.189312</td>\n",
       "    </tr>\n",
       "    <tr>\n",
       "      <th>3</th>\n",
       "      <td>1984-11-08</td>\n",
       "      <td>8.136106</td>\n",
       "    </tr>\n",
       "    <tr>\n",
       "      <th>4</th>\n",
       "      <td>1985-07-22</td>\n",
       "      <td>8.386366</td>\n",
       "    </tr>\n",
       "    <tr>\n",
       "      <th>...</th>\n",
       "      <td>...</td>\n",
       "      <td>...</td>\n",
       "    </tr>\n",
       "    <tr>\n",
       "      <th>141</th>\n",
       "      <td>2020-10-17</td>\n",
       "      <td>8.293824</td>\n",
       "    </tr>\n",
       "    <tr>\n",
       "      <th>142</th>\n",
       "      <td>2021-05-13</td>\n",
       "      <td>8.444483</td>\n",
       "    </tr>\n",
       "    <tr>\n",
       "      <th>143</th>\n",
       "      <td>2021-10-20</td>\n",
       "      <td>8.398671</td>\n",
       "    </tr>\n",
       "    <tr>\n",
       "      <th>144</th>\n",
       "      <td>2022-11-24</td>\n",
       "      <td>8.287634</td>\n",
       "    </tr>\n",
       "    <tr>\n",
       "      <th>145</th>\n",
       "      <td>2023-05-19</td>\n",
       "      <td>8.636032</td>\n",
       "    </tr>\n",
       "  </tbody>\n",
       "</table>\n",
       "<p>146 rows × 2 columns</p>\n",
       "</div>"
      ],
      "text/plain": [
       "           date      mean\n",
       "0    1984-06-17  8.644180\n",
       "1    1984-09-21  8.211801\n",
       "2    1984-10-07  8.189312\n",
       "3    1984-11-08  8.136106\n",
       "4    1985-07-22  8.386366\n",
       "..          ...       ...\n",
       "141  2020-10-17  8.293824\n",
       "142  2021-05-13  8.444483\n",
       "143  2021-10-20  8.398671\n",
       "144  2022-11-24  8.287634\n",
       "145  2023-05-19  8.636032\n",
       "\n",
       "[146 rows x 2 columns]"
      ]
     },
     "execution_count": 12,
     "metadata": {},
     "output_type": "execute_result"
    }
   ],
   "source": [
    "\n",
    "df['date'] = pd.to_datetime(df['date'])\n",
    "\n",
    "# Format 'date' column to exclude the time\n",
    "df['date'] = df['date'].dt.date\n",
    "df"
   ]
  },
  {
   "cell_type": "code",
   "execution_count": 18,
   "id": "634acc91",
   "metadata": {},
   "outputs": [
    {
     "data": {
      "image/png": "[encoded data removed]",
      "text/plain": [
       "<Figure size 1500x700 with 1 Axes>"
      ]
     },
     "metadata": {},
     "output_type": "display_data"
    }
   ],
   "source": [
    "import seaborn as sns\n",
    "import matplotlib.pyplot as plt\n",
    "import datetime as dt\n",
    "# Create a figure with subplots and set the dimensions to 15 x 7\n",
    "fig, ax = plt.subplots(figsize=(15, 7))\n",
    "\n",
    "# Create the plot by setting our dataframe to the data argument\n",
    "sns.scatterplot(data=df, x='date', y='mean', ax=ax)\n",
    "\n",
    "# Set the labels and title\n",
    "ax.set_ylabel('CDOM', fontsize=20)\n",
    "ax.set_xlabel('date', fontsize=20)\n",
    "ax.set_title('Cdom Values over Time for Avalanche Lake', fontsize=20)\n",
    "\n",
    "# Format the x-axis tick labels to display only the year\n",
    "# ax.xaxis.set_major_formatter(plt.FixedFormatter(df['date'].dt.year.unique()))\n",
    "\n",
    "# Display the plot\n",
    "plt.show()\n"
   ]
  },
  {
   "cell_type": "code",
   "execution_count": null,
   "id": "5282ee8f",
   "metadata": {},
   "outputs": [],
   "source": []
  },
  {
   "cell_type": "code",
   "execution_count": null,
   "id": "026a0333",
   "metadata": {},
   "outputs": [],
   "source": []
  }
 ],
 "metadata": {
  "kernelspec": {
   "display_name": "Python 3 (ipykernel)",
   "language": "python",
   "name": "python3"
  },
  "language_info": {
   "codemirror_mode": {
    "name": "ipython",
    "version": 3
   },
   "file_extension": ".py",
   "mimetype": "text/x-python",
   "name": "python",
   "nbconvert_exporter": "python",
   "pygments_lexer": "ipython3",
   "version": "3.10.7"
  }
 },
 "nbformat": 4,
 "nbformat_minor": 5
}
